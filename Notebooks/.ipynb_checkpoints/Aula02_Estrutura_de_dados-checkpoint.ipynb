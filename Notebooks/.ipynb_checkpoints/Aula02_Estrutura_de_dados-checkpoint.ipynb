{
 "cells": [
  {
   "cell_type": "markdown",
   "metadata": {
    "colab_type": "text",
    "id": "P5yjJd4Se7a8"
   },
   "source": [
    "# Aula 02 -  Estrutura de dados\n",
    "\n",
    "Testando algumas estruturas de dados: Listas, Tuplas e Dicionário"
   ]
  },
  {
   "cell_type": "markdown",
   "metadata": {
    "colab_type": "text",
    "id": "0VKL1NCNhUfG"
   },
   "source": [
    "# Listas"
   ]
  },
  {
   "cell_type": "code",
   "execution_count": 1,
   "metadata": {
    "ExecuteTime": {
     "end_time": "2022-11-08T19:32:26.723639Z",
     "start_time": "2022-11-08T19:32:26.694402Z"
    },
    "colab": {
     "base_uri": "https://localhost:8080/",
     "height": 34
    },
    "colab_type": "code",
    "id": "XHAFPHWmfFoB",
    "outputId": "5dbb8e99-09ba-40db-f848-f2395ded9c73"
   },
   "outputs": [
    {
     "data": {
      "text/plain": [
       "[1, 2, 3]"
      ]
     },
     "execution_count": 1,
     "metadata": {},
     "output_type": "execute_result"
    }
   ],
   "source": [
    "# Criando uma lista chamada animais\n",
    "animais = [1,2,3]\n",
    "animais"
   ]
  },
  {
   "cell_type": "code",
   "execution_count": 2,
   "metadata": {
    "ExecuteTime": {
     "end_time": "2022-11-08T19:32:26.836056Z",
     "start_time": "2022-11-08T19:32:26.727573Z"
    },
    "colab": {
     "base_uri": "https://localhost:8080/",
     "height": 34
    },
    "colab_type": "code",
    "id": "5v-w_ftdga0J",
    "outputId": "8ded31ab-a939-4f4d-caac-ef0a281bcfb6"
   },
   "outputs": [
    {
     "data": {
      "text/plain": [
       "['cachorro', 'gato', 12345, 6.5]"
      ]
     },
     "execution_count": 2,
     "metadata": {},
     "output_type": "execute_result"
    }
   ],
   "source": [
    "animais = [\"cachorro\", \"gato\", 12345, 6.5]\n",
    "animais"
   ]
  },
  {
   "cell_type": "code",
   "execution_count": 3,
   "metadata": {
    "ExecuteTime": {
     "end_time": "2022-11-08T19:32:26.928146Z",
     "start_time": "2022-11-08T19:32:26.839175Z"
    },
    "colab": {
     "base_uri": "https://localhost:8080/",
     "height": 34
    },
    "colab_type": "code",
    "id": "bJkOFrGfgrKR",
    "outputId": "273b6c48-3245-47d8-b8d4-e37865e52b21"
   },
   "outputs": [
    {
     "data": {
      "text/plain": [
       "'cachorro'"
      ]
     },
     "execution_count": 3,
     "metadata": {},
     "output_type": "execute_result"
    }
   ],
   "source": [
    "# Imprimindo o primeiro elemento da lista\n",
    "animais[0]"
   ]
  },
  {
   "cell_type": "code",
   "execution_count": 4,
   "metadata": {
    "ExecuteTime": {
     "end_time": "2022-11-08T19:32:27.025179Z",
     "start_time": "2022-11-08T19:32:26.936032Z"
    },
    "colab": {
     "base_uri": "https://localhost:8080/",
     "height": 34
    },
    "colab_type": "code",
    "id": "M-2mXu3mgvuS",
    "outputId": "81236f47-7507-4682-ee71-96d05ad1eb41"
   },
   "outputs": [
    {
     "data": {
      "text/plain": [
       "6.5"
      ]
     },
     "execution_count": 4,
     "metadata": {},
     "output_type": "execute_result"
    }
   ],
   "source": [
    "# Imprimindo o 4 elemento da lista\n",
    "animais[3]"
   ]
  },
  {
   "cell_type": "code",
   "execution_count": 5,
   "metadata": {
    "ExecuteTime": {
     "end_time": "2022-11-08T19:32:27.111571Z",
     "start_time": "2022-11-08T19:32:27.028482Z"
    },
    "colab": {},
    "colab_type": "code",
    "id": "RDCW4hs_gxyT"
   },
   "outputs": [],
   "source": [
    "# Substituindo o primeiro elemento da lista\n",
    "animais[0] = \"papagaio\""
   ]
  },
  {
   "cell_type": "code",
   "execution_count": 6,
   "metadata": {
    "ExecuteTime": {
     "end_time": "2022-11-08T19:32:27.247701Z",
     "start_time": "2022-11-08T19:32:27.115143Z"
    },
    "colab": {
     "base_uri": "https://localhost:8080/",
     "height": 34
    },
    "colab_type": "code",
    "id": "QJrP-830gzvh",
    "outputId": "e69ecaaa-d6a3-48ee-e08a-33b3c2417ad8"
   },
   "outputs": [
    {
     "data": {
      "text/plain": [
       "['papagaio', 'gato', 12345, 6.5]"
      ]
     },
     "execution_count": 6,
     "metadata": {},
     "output_type": "execute_result"
    }
   ],
   "source": [
    "animais"
   ]
  },
  {
   "cell_type": "code",
   "execution_count": 7,
   "metadata": {
    "ExecuteTime": {
     "end_time": "2022-11-08T19:32:27.333810Z",
     "start_time": "2022-11-08T19:32:27.252740Z"
    },
    "colab": {},
    "colab_type": "code",
    "id": "3QFbAI6Og0wP"
   },
   "outputs": [],
   "source": [
    "# Removendo gato da lista\n",
    "animais.remove(\"gato\")"
   ]
  },
  {
   "cell_type": "code",
   "execution_count": 8,
   "metadata": {
    "ExecuteTime": {
     "end_time": "2022-11-08T19:32:27.413868Z",
     "start_time": "2022-11-08T19:32:27.340093Z"
    },
    "colab": {
     "base_uri": "https://localhost:8080/",
     "height": 34
    },
    "colab_type": "code",
    "id": "b8g1bs42g31p",
    "outputId": "c4fa21bc-0375-4c4f-d645-1fa535ac3559"
   },
   "outputs": [
    {
     "data": {
      "text/plain": [
       "['papagaio', 12345, 6.5]"
      ]
     },
     "execution_count": 8,
     "metadata": {},
     "output_type": "execute_result"
    }
   ],
   "source": [
    "animais"
   ]
  },
  {
   "cell_type": "code",
   "execution_count": 9,
   "metadata": {
    "ExecuteTime": {
     "end_time": "2022-11-08T19:32:27.491846Z",
     "start_time": "2022-11-08T19:32:27.417341Z"
    },
    "colab": {
     "base_uri": "https://localhost:8080/",
     "height": 34
    },
    "colab_type": "code",
    "id": "xfu4p_g3g7OS",
    "outputId": "1a511e7d-4616-4fe1-eaab-154d1b8a84d1"
   },
   "outputs": [
    {
     "data": {
      "text/plain": [
       "3"
      ]
     },
     "execution_count": 9,
     "metadata": {},
     "output_type": "execute_result"
    }
   ],
   "source": [
    "len(animais)"
   ]
  },
  {
   "cell_type": "code",
   "execution_count": 10,
   "metadata": {
    "ExecuteTime": {
     "end_time": "2022-11-08T19:32:27.580449Z",
     "start_time": "2022-11-08T19:32:27.494695Z"
    },
    "colab": {
     "base_uri": "https://localhost:8080/",
     "height": 34
    },
    "colab_type": "code",
    "id": "0HedcjoFg-5m",
    "outputId": "04ebec34-a75f-404a-b719-0ca710a24059"
   },
   "outputs": [
    {
     "data": {
      "text/plain": [
       "False"
      ]
     },
     "execution_count": 10,
     "metadata": {},
     "output_type": "execute_result"
    }
   ],
   "source": [
    "\"gato\" in animais"
   ]
  },
  {
   "cell_type": "code",
   "execution_count": 11,
   "metadata": {
    "ExecuteTime": {
     "end_time": "2022-11-08T19:32:27.667512Z",
     "start_time": "2022-11-08T19:32:27.583359Z"
    },
    "colab": {},
    "colab_type": "code",
    "id": "VDZ6nZU2hDdf"
   },
   "outputs": [],
   "source": [
    "lista = [500, 30, 300, 80, 10]"
   ]
  },
  {
   "cell_type": "code",
   "execution_count": 12,
   "metadata": {
    "ExecuteTime": {
     "end_time": "2022-11-08T19:32:28.107017Z",
     "start_time": "2022-11-08T19:32:27.670482Z"
    },
    "colab": {
     "base_uri": "https://localhost:8080/",
     "height": 34
    },
    "colab_type": "code",
    "id": "VjrYRfHJhGhL",
    "outputId": "ad010fc6-b64f-4b11-ec1c-67ef22b93da0"
   },
   "outputs": [
    {
     "data": {
      "text/plain": [
       "500"
      ]
     },
     "execution_count": 12,
     "metadata": {},
     "output_type": "execute_result"
    }
   ],
   "source": [
    "max(lista)"
   ]
  },
  {
   "cell_type": "code",
   "execution_count": 13,
   "metadata": {
    "ExecuteTime": {
     "end_time": "2022-11-08T19:32:28.196179Z",
     "start_time": "2022-11-08T19:32:28.110529Z"
    },
    "colab": {
     "base_uri": "https://localhost:8080/",
     "height": 34
    },
    "colab_type": "code",
    "id": "jkeXKWQPhJRr",
    "outputId": "b8d73be6-aa7f-4129-bd57-9a8c294d5c77"
   },
   "outputs": [
    {
     "data": {
      "text/plain": [
       "10"
      ]
     },
     "execution_count": 13,
     "metadata": {},
     "output_type": "execute_result"
    }
   ],
   "source": [
    "min(lista)"
   ]
  },
  {
   "cell_type": "code",
   "execution_count": 14,
   "metadata": {
    "ExecuteTime": {
     "end_time": "2022-11-08T19:32:28.280649Z",
     "start_time": "2022-11-08T19:32:28.200216Z"
    },
    "colab": {},
    "colab_type": "code",
    "id": "20T_hCwAhMsU"
   },
   "outputs": [],
   "source": [
    "animais.append([\"leão\", \"Cachorro\"])"
   ]
  },
  {
   "cell_type": "code",
   "execution_count": 15,
   "metadata": {
    "ExecuteTime": {
     "end_time": "2022-11-08T19:32:28.370576Z",
     "start_time": "2022-11-08T19:32:28.283342Z"
    },
    "colab": {
     "base_uri": "https://localhost:8080/",
     "height": 34
    },
    "colab_type": "code",
    "id": "WgWWMNJXhQdB",
    "outputId": "b2a0495e-b1ee-469d-bae5-e771c20e1efb"
   },
   "outputs": [
    {
     "data": {
      "text/plain": [
       "['papagaio', 12345, 6.5, ['leão', 'Cachorro']]"
      ]
     },
     "execution_count": 15,
     "metadata": {},
     "output_type": "execute_result"
    }
   ],
   "source": [
    "animais"
   ]
  },
  {
   "cell_type": "code",
   "execution_count": 16,
   "metadata": {
    "ExecuteTime": {
     "end_time": "2022-11-08T19:32:28.458021Z",
     "start_time": "2022-11-08T19:32:28.374473Z"
    },
    "colab": {},
    "colab_type": "code",
    "id": "Cl-M69f5hSsD"
   },
   "outputs": [],
   "source": [
    "animais.extend([\"cobra\", 6])"
   ]
  },
  {
   "cell_type": "code",
   "execution_count": 17,
   "metadata": {
    "ExecuteTime": {
     "end_time": "2022-11-08T19:32:28.548428Z",
     "start_time": "2022-11-08T19:32:28.462903Z"
    },
    "colab": {
     "base_uri": "https://localhost:8080/",
     "height": 34
    },
    "colab_type": "code",
    "id": "_scJEZbWMFBW",
    "outputId": "9ae58baf-1d1c-408d-9026-4a74e5a7f4a4"
   },
   "outputs": [
    {
     "data": {
      "text/plain": [
       "['papagaio', 12345, 6.5, ['leão', 'Cachorro'], 'cobra', 6]"
      ]
     },
     "execution_count": 17,
     "metadata": {},
     "output_type": "execute_result"
    }
   ],
   "source": [
    "animais"
   ]
  },
  {
   "cell_type": "code",
   "execution_count": 18,
   "metadata": {
    "ExecuteTime": {
     "end_time": "2022-11-08T19:32:28.650272Z",
     "start_time": "2022-11-08T19:32:28.551416Z"
    },
    "colab": {
     "base_uri": "https://localhost:8080/",
     "height": 34
    },
    "colab_type": "code",
    "id": "kNn0DiyxheHC",
    "outputId": "b4a75f67-c2f5-4972-9ee1-17c6481c394a"
   },
   "outputs": [
    {
     "data": {
      "text/plain": [
       "0"
      ]
     },
     "execution_count": 18,
     "metadata": {},
     "output_type": "execute_result"
    }
   ],
   "source": [
    "animais.count(\"leão\")"
   ]
  },
  {
   "cell_type": "code",
   "execution_count": 19,
   "metadata": {
    "ExecuteTime": {
     "end_time": "2022-11-08T19:32:28.735376Z",
     "start_time": "2022-11-08T19:32:28.655373Z"
    },
    "colab": {},
    "colab_type": "code",
    "id": "VgoLBevzhinC"
   },
   "outputs": [],
   "source": [
    "lista.sort()"
   ]
  },
  {
   "cell_type": "code",
   "execution_count": 20,
   "metadata": {
    "ExecuteTime": {
     "end_time": "2022-11-08T19:32:28.825212Z",
     "start_time": "2022-11-08T19:32:28.738457Z"
    },
    "colab": {
     "base_uri": "https://localhost:8080/",
     "height": 34
    },
    "colab_type": "code",
    "id": "mPJTKqXMhrDB",
    "outputId": "aaa017a3-80a9-47ae-895a-63d6de385d18"
   },
   "outputs": [
    {
     "data": {
      "text/plain": [
       "[10, 30, 80, 300, 500]"
      ]
     },
     "execution_count": 20,
     "metadata": {},
     "output_type": "execute_result"
    }
   ],
   "source": [
    "lista"
   ]
  },
  {
   "cell_type": "markdown",
   "metadata": {
    "colab_type": "text",
    "id": "VHmSI4EcoX-h"
   },
   "source": [
    "# Tuplas"
   ]
  },
  {
   "cell_type": "code",
   "execution_count": 21,
   "metadata": {
    "ExecuteTime": {
     "end_time": "2022-11-08T19:32:28.911509Z",
     "start_time": "2022-11-08T19:32:28.828046Z"
    },
    "colab": {},
    "colab_type": "code",
    "id": "Qrv07mzWocDT"
   },
   "outputs": [],
   "source": [
    "# As tuplas usam parênteses como sintaxe\n",
    "tp = (\"Banana\", \"Maçã\", 10, 50)"
   ]
  },
  {
   "cell_type": "code",
   "execution_count": 22,
   "metadata": {
    "ExecuteTime": {
     "end_time": "2022-11-08T19:32:29.005352Z",
     "start_time": "2022-11-08T19:32:28.915008Z"
    },
    "colab": {
     "base_uri": "https://localhost:8080/",
     "height": 34
    },
    "colab_type": "code",
    "id": "r7ZMMLn8pt7R",
    "outputId": "d2ad4094-b8d6-489f-a605-36c4b569bd8b"
   },
   "outputs": [
    {
     "data": {
      "text/plain": [
       "'Banana'"
      ]
     },
     "execution_count": 22,
     "metadata": {},
     "output_type": "execute_result"
    }
   ],
   "source": [
    "# Retornando o primeiro elemento\n",
    "tp[0]"
   ]
  },
  {
   "cell_type": "code",
   "execution_count": 23,
   "metadata": {
    "ExecuteTime": {
     "end_time": "2022-11-08T19:32:29.080542Z",
     "start_time": "2022-11-08T19:32:29.016888Z"
    },
    "colab": {
     "base_uri": "https://localhost:8080/",
     "height": 180
    },
    "colab_type": "code",
    "id": "jKRnh-DbpzBj",
    "outputId": "04b2babe-4507-4279-8cfc-64e62f3c20cf"
   },
   "outputs": [
    {
     "name": "stdout",
     "output_type": "stream",
     "text": [
      "ErrorMessage:: 'tuple' object does not support item assignment\n"
     ]
    }
   ],
   "source": [
    "# Diferente das listas as tuplas são imutáveis, o que quer dizer que não podemos alterar os seus elementos\n",
    "try:\n",
    "    tp[0] = \"Laranja\"\n",
    "except Exception as e:\n",
    "    print('ErrorMessage::', e)"
   ]
  },
  {
   "cell_type": "code",
   "execution_count": 24,
   "metadata": {
    "ExecuteTime": {
     "end_time": "2022-11-08T19:32:29.170671Z",
     "start_time": "2022-11-08T19:32:29.085148Z"
    },
    "colab": {
     "base_uri": "https://localhost:8080/",
     "height": 34
    },
    "colab_type": "code",
    "id": "a-KaNhePE0nb",
    "outputId": "ddf3ebbd-355a-467e-d238-0c9601e07c61"
   },
   "outputs": [
    {
     "data": {
      "text/plain": [
       "1"
      ]
     },
     "execution_count": 24,
     "metadata": {},
     "output_type": "execute_result"
    }
   ],
   "source": [
    "tp.count(\"Maçã\")"
   ]
  },
  {
   "cell_type": "code",
   "execution_count": 25,
   "metadata": {
    "ExecuteTime": {
     "end_time": "2022-11-08T19:32:29.260750Z",
     "start_time": "2022-11-08T19:32:29.173390Z"
    },
    "colab": {
     "base_uri": "https://localhost:8080/",
     "height": 34
    },
    "colab_type": "code",
    "id": "ntXTi7MaFAX7",
    "outputId": "595f3409-7948-4919-cff4-787d350423b7"
   },
   "outputs": [
    {
     "data": {
      "text/plain": [
       "('Banana', 'Maçã')"
      ]
     },
     "execution_count": 25,
     "metadata": {},
     "output_type": "execute_result"
    }
   ],
   "source": [
    "tp[0:2]"
   ]
  },
  {
   "cell_type": "markdown",
   "metadata": {
    "colab_type": "text",
    "id": "Q0Ltz4kcFQps"
   },
   "source": [
    "# Dicionários"
   ]
  },
  {
   "cell_type": "code",
   "execution_count": 26,
   "metadata": {
    "ExecuteTime": {
     "end_time": "2022-11-08T19:32:29.347158Z",
     "start_time": "2022-11-08T19:32:29.264681Z"
    },
    "colab": {},
    "colab_type": "code",
    "id": "43OFknPUFO68"
   },
   "outputs": [],
   "source": [
    "# Para criar um dicionário utilizamos as {}\n",
    "dc = {\"Maçã\":20, \"Banana\":10, \"Laranja\":15, \"Uva\":5} #Dicionários trabalham com o condeito chave e valor"
   ]
  },
  {
   "cell_type": "code",
   "execution_count": 27,
   "metadata": {
    "ExecuteTime": {
     "end_time": "2022-11-08T19:32:29.492715Z",
     "start_time": "2022-11-08T19:32:29.352740Z"
    },
    "colab": {
     "base_uri": "https://localhost:8080/",
     "height": 34
    },
    "colab_type": "code",
    "id": "dCH9PefxGBdZ",
    "outputId": "4017b350-db9b-4404-8f2b-1d41d9e983bf"
   },
   "outputs": [
    {
     "data": {
      "text/plain": [
       "{'Maçã': 20, 'Banana': 10, 'Laranja': 15, 'Uva': 5}"
      ]
     },
     "execution_count": 27,
     "metadata": {},
     "output_type": "execute_result"
    }
   ],
   "source": [
    "dc"
   ]
  },
  {
   "cell_type": "code",
   "execution_count": 28,
   "metadata": {
    "ExecuteTime": {
     "end_time": "2022-11-08T19:32:29.585858Z",
     "start_time": "2022-11-08T19:32:29.497863Z"
    },
    "colab": {
     "base_uri": "https://localhost:8080/",
     "height": 34
    },
    "colab_type": "code",
    "id": "iyGxfz72FxNa",
    "outputId": "4e85b169-8639-4402-ddcf-5a954e6acd9f"
   },
   "outputs": [
    {
     "data": {
      "text/plain": [
       "20"
      ]
     },
     "execution_count": 28,
     "metadata": {},
     "output_type": "execute_result"
    }
   ],
   "source": [
    "# Acessando o valor de um dicionário através da chave\n",
    "dc[\"Maçã\"]"
   ]
  },
  {
   "cell_type": "code",
   "execution_count": 29,
   "metadata": {
    "ExecuteTime": {
     "end_time": "2022-11-08T19:32:29.684153Z",
     "start_time": "2022-11-08T19:32:29.589477Z"
    },
    "colab": {
     "base_uri": "https://localhost:8080/",
     "height": 34
    },
    "colab_type": "code",
    "id": "6WwkohdpF5Cq",
    "outputId": "053f88f7-b499-47d5-c741-25f0a394e2c8"
   },
   "outputs": [
    {
     "data": {
      "text/plain": [
       "{'Maçã': 25, 'Banana': 10, 'Laranja': 15, 'Uva': 5}"
      ]
     },
     "execution_count": 29,
     "metadata": {},
     "output_type": "execute_result"
    }
   ],
   "source": [
    "# Atualizando o valor da Maçã\n",
    "dc[\"Maçã\"] = 25\n",
    "dc"
   ]
  },
  {
   "cell_type": "code",
   "execution_count": 30,
   "metadata": {
    "ExecuteTime": {
     "end_time": "2022-11-08T19:32:29.820913Z",
     "start_time": "2022-11-08T19:32:29.688725Z"
    },
    "colab": {
     "base_uri": "https://localhost:8080/",
     "height": 34
    },
    "colab_type": "code",
    "id": "_50MV-XaGFae",
    "outputId": "53879989-4805-4017-f5a9-9294ba60d86a"
   },
   "outputs": [
    {
     "data": {
      "text/plain": [
       "dict_keys(['Maçã', 'Banana', 'Laranja', 'Uva'])"
      ]
     },
     "execution_count": 30,
     "metadata": {},
     "output_type": "execute_result"
    }
   ],
   "source": [
    "# Retornando todas as chaves do dicionário\n",
    "dc.keys()"
   ]
  },
  {
   "cell_type": "code",
   "execution_count": 31,
   "metadata": {
    "ExecuteTime": {
     "end_time": "2022-11-08T19:32:29.918991Z",
     "start_time": "2022-11-08T19:32:29.827170Z"
    },
    "colab": {
     "base_uri": "https://localhost:8080/",
     "height": 34
    },
    "colab_type": "code",
    "id": "AHLXfikMGRS4",
    "outputId": "1beaa637-f1dd-4122-80a5-5d317c993943"
   },
   "outputs": [
    {
     "data": {
      "text/plain": [
       "dict_values([25, 10, 15, 5])"
      ]
     },
     "execution_count": 31,
     "metadata": {},
     "output_type": "execute_result"
    }
   ],
   "source": [
    "# Retornando os valores do dicionário\n",
    "dc.values()"
   ]
  },
  {
   "cell_type": "code",
   "execution_count": 32,
   "metadata": {
    "ExecuteTime": {
     "end_time": "2022-11-08T19:32:30.006839Z",
     "start_time": "2022-11-08T19:32:29.922384Z"
    },
    "colab": {
     "base_uri": "https://localhost:8080/",
     "height": 34
    },
    "colab_type": "code",
    "id": "co2yQ4IrGX8n",
    "outputId": "f8f5dc72-2f3d-433b-c54b-cea91173e306"
   },
   "outputs": [
    {
     "data": {
      "text/plain": [
       "22"
      ]
     },
     "execution_count": 32,
     "metadata": {},
     "output_type": "execute_result"
    }
   ],
   "source": [
    "# Verificando se já existe uma chave no dicionário e caso não exista inserir\n",
    "dc.setdefault(\"Limão\", 22)"
   ]
  },
  {
   "cell_type": "code",
   "execution_count": 33,
   "metadata": {
    "ExecuteTime": {
     "end_time": "2022-11-08T19:32:30.101386Z",
     "start_time": "2022-11-08T19:32:30.012051Z"
    },
    "colab": {
     "base_uri": "https://localhost:8080/",
     "height": 34
    },
    "colab_type": "code",
    "id": "M9_v4jAZGyz6",
    "outputId": "e8754510-9f3c-4560-c4c1-133cbc06cf9b"
   },
   "outputs": [
    {
     "data": {
      "text/plain": [
       "{'Maçã': 25, 'Banana': 10, 'Laranja': 15, 'Uva': 5, 'Limão': 22}"
      ]
     },
     "execution_count": 33,
     "metadata": {},
     "output_type": "execute_result"
    }
   ],
   "source": [
    "dc"
   ]
  }
 ],
 "metadata": {
  "colab": {
   "name": "Estrutura_de_dados.ipynb",
   "provenance": []
  },
  "kernelspec": {
   "display_name": "Python 3",
   "language": "python",
   "name": "python3"
  },
  "language_info": {
   "codemirror_mode": {
    "name": "ipython",
    "version": 3
   },
   "file_extension": ".py",
   "mimetype": "text/x-python",
   "name": "python",
   "nbconvert_exporter": "python",
   "pygments_lexer": "ipython3",
   "version": "3.9.5"
  },
  "toc": {
   "base_numbering": 1,
   "nav_menu": {},
   "number_sections": true,
   "sideBar": true,
   "skip_h1_title": false,
   "title_cell": "Table of Contents",
   "title_sidebar": "Contents",
   "toc_cell": false,
   "toc_position": {},
   "toc_section_display": true,
   "toc_window_display": false
  }
 },
 "nbformat": 4,
 "nbformat_minor": 1
}
